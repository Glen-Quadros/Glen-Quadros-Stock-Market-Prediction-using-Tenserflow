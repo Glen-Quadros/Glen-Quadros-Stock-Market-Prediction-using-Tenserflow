{
 "cells": [
  {
   "cell_type": "code",
   "execution_count": 146,
   "id": "a5952344",
   "metadata": {},
   "outputs": [],
   "source": [
    "import numpy as np\n",
    "import pandas as pd\n",
    "import matplotlib.pyplot as plt\n",
    "import pandas_datareader as data\n",
    "import datetime\n",
    "import yfinance as yf"
   ]
  },
  {
   "cell_type": "code",
   "execution_count": 147,
   "id": "68c0b420",
   "metadata": {},
   "outputs": [
    {
     "name": "stdout",
     "output_type": "stream",
     "text": [
      "Enter the stock ticker: SBIN.NS\n"
     ]
    }
   ],
   "source": [
    "ticker = input('Enter the stock ticker: ')"
   ]
  },
  {
   "cell_type": "code",
   "execution_count": 148,
   "id": "9ee3265a",
   "metadata": {},
   "outputs": [],
   "source": [
    "df = yf.Ticker(ticker)"
   ]
  },
  {
   "cell_type": "code",
   "execution_count": 149,
   "id": "2db7573a",
   "metadata": {},
   "outputs": [],
   "source": [
    "df = df.history(period='max')"
   ]
  },
  {
   "cell_type": "code",
   "execution_count": 150,
   "id": "c3887cde",
   "metadata": {},
   "outputs": [
    {
     "data": {
      "text/html": [
       "<div>\n",
       "<style scoped>\n",
       "    .dataframe tbody tr th:only-of-type {\n",
       "        vertical-align: middle;\n",
       "    }\n",
       "\n",
       "    .dataframe tbody tr th {\n",
       "        vertical-align: top;\n",
       "    }\n",
       "\n",
       "    .dataframe thead th {\n",
       "        text-align: right;\n",
       "    }\n",
       "</style>\n",
       "<table border=\"1\" class=\"dataframe\">\n",
       "  <thead>\n",
       "    <tr style=\"text-align: right;\">\n",
       "      <th></th>\n",
       "      <th>Open</th>\n",
       "      <th>High</th>\n",
       "      <th>Low</th>\n",
       "      <th>Close</th>\n",
       "      <th>Volume</th>\n",
       "      <th>Dividends</th>\n",
       "      <th>Stock Splits</th>\n",
       "    </tr>\n",
       "    <tr>\n",
       "      <th>Date</th>\n",
       "      <th></th>\n",
       "      <th></th>\n",
       "      <th></th>\n",
       "      <th></th>\n",
       "      <th></th>\n",
       "      <th></th>\n",
       "      <th></th>\n",
       "    </tr>\n",
       "  </thead>\n",
       "  <tbody>\n",
       "    <tr>\n",
       "      <th>1996-01-01</th>\n",
       "      <td>12.562309</td>\n",
       "      <td>12.755722</td>\n",
       "      <td>12.460847</td>\n",
       "      <td>12.651089</td>\n",
       "      <td>43733533</td>\n",
       "      <td>0.0</td>\n",
       "      <td>0.0</td>\n",
       "    </tr>\n",
       "    <tr>\n",
       "      <th>1996-01-02</th>\n",
       "      <td>12.698651</td>\n",
       "      <td>12.746210</td>\n",
       "      <td>11.921829</td>\n",
       "      <td>12.248412</td>\n",
       "      <td>56167280</td>\n",
       "      <td>0.0</td>\n",
       "      <td>0.0</td>\n",
       "    </tr>\n",
       "    <tr>\n",
       "      <th>1996-01-03</th>\n",
       "      <td>12.318168</td>\n",
       "      <td>12.479873</td>\n",
       "      <td>11.858416</td>\n",
       "      <td>11.921830</td>\n",
       "      <td>68296318</td>\n",
       "      <td>0.0</td>\n",
       "      <td>0.0</td>\n",
       "    </tr>\n",
       "    <tr>\n",
       "      <th>1996-01-04</th>\n",
       "      <td>11.763293</td>\n",
       "      <td>11.985241</td>\n",
       "      <td>11.576221</td>\n",
       "      <td>11.880609</td>\n",
       "      <td>86073880</td>\n",
       "      <td>0.0</td>\n",
       "      <td>0.0</td>\n",
       "    </tr>\n",
       "    <tr>\n",
       "      <th>1996-01-05</th>\n",
       "      <td>11.921831</td>\n",
       "      <td>11.953537</td>\n",
       "      <td>11.734759</td>\n",
       "      <td>11.814027</td>\n",
       "      <td>76613039</td>\n",
       "      <td>0.0</td>\n",
       "      <td>0.0</td>\n",
       "    </tr>\n",
       "    <tr>\n",
       "      <th>...</th>\n",
       "      <td>...</td>\n",
       "      <td>...</td>\n",
       "      <td>...</td>\n",
       "      <td>...</td>\n",
       "      <td>...</td>\n",
       "      <td>...</td>\n",
       "      <td>...</td>\n",
       "    </tr>\n",
       "    <tr>\n",
       "      <th>2022-10-24</th>\n",
       "      <td>567.000000</td>\n",
       "      <td>572.500000</td>\n",
       "      <td>565.900024</td>\n",
       "      <td>570.500000</td>\n",
       "      <td>3692065</td>\n",
       "      <td>0.0</td>\n",
       "      <td>0.0</td>\n",
       "    </tr>\n",
       "    <tr>\n",
       "      <th>2022-10-25</th>\n",
       "      <td>572.500000</td>\n",
       "      <td>586.200012</td>\n",
       "      <td>568.000000</td>\n",
       "      <td>578.549988</td>\n",
       "      <td>19899324</td>\n",
       "      <td>0.0</td>\n",
       "      <td>0.0</td>\n",
       "    </tr>\n",
       "    <tr>\n",
       "      <th>2022-10-27</th>\n",
       "      <td>583.950012</td>\n",
       "      <td>585.000000</td>\n",
       "      <td>577.599976</td>\n",
       "      <td>579.650024</td>\n",
       "      <td>13613533</td>\n",
       "      <td>0.0</td>\n",
       "      <td>0.0</td>\n",
       "    </tr>\n",
       "    <tr>\n",
       "      <th>2022-10-28</th>\n",
       "      <td>579.950012</td>\n",
       "      <td>582.650024</td>\n",
       "      <td>567.000000</td>\n",
       "      <td>570.750000</td>\n",
       "      <td>10043644</td>\n",
       "      <td>0.0</td>\n",
       "      <td>0.0</td>\n",
       "    </tr>\n",
       "    <tr>\n",
       "      <th>2022-10-31</th>\n",
       "      <td>574.950012</td>\n",
       "      <td>577.450012</td>\n",
       "      <td>568.400024</td>\n",
       "      <td>572.849976</td>\n",
       "      <td>4237816</td>\n",
       "      <td>0.0</td>\n",
       "      <td>0.0</td>\n",
       "    </tr>\n",
       "  </tbody>\n",
       "</table>\n",
       "<p>6748 rows × 7 columns</p>\n",
       "</div>"
      ],
      "text/plain": [
       "                  Open        High         Low       Close    Volume  \\\n",
       "Date                                                                   \n",
       "1996-01-01   12.562309   12.755722   12.460847   12.651089  43733533   \n",
       "1996-01-02   12.698651   12.746210   11.921829   12.248412  56167280   \n",
       "1996-01-03   12.318168   12.479873   11.858416   11.921830  68296318   \n",
       "1996-01-04   11.763293   11.985241   11.576221   11.880609  86073880   \n",
       "1996-01-05   11.921831   11.953537   11.734759   11.814027  76613039   \n",
       "...                ...         ...         ...         ...       ...   \n",
       "2022-10-24  567.000000  572.500000  565.900024  570.500000   3692065   \n",
       "2022-10-25  572.500000  586.200012  568.000000  578.549988  19899324   \n",
       "2022-10-27  583.950012  585.000000  577.599976  579.650024  13613533   \n",
       "2022-10-28  579.950012  582.650024  567.000000  570.750000  10043644   \n",
       "2022-10-31  574.950012  577.450012  568.400024  572.849976   4237816   \n",
       "\n",
       "            Dividends  Stock Splits  \n",
       "Date                                 \n",
       "1996-01-01        0.0           0.0  \n",
       "1996-01-02        0.0           0.0  \n",
       "1996-01-03        0.0           0.0  \n",
       "1996-01-04        0.0           0.0  \n",
       "1996-01-05        0.0           0.0  \n",
       "...               ...           ...  \n",
       "2022-10-24        0.0           0.0  \n",
       "2022-10-25        0.0           0.0  \n",
       "2022-10-27        0.0           0.0  \n",
       "2022-10-28        0.0           0.0  \n",
       "2022-10-31        0.0           0.0  \n",
       "\n",
       "[6748 rows x 7 columns]"
      ]
     },
     "execution_count": 150,
     "metadata": {},
     "output_type": "execute_result"
    }
   ],
   "source": [
    "df"
   ]
  },
  {
   "cell_type": "code",
   "execution_count": 151,
   "id": "e482bef0",
   "metadata": {},
   "outputs": [],
   "source": [
    "df = df.drop(['Dividends'], axis=1)\n",
    "df = df.drop(['Stock Splits'], axis=1)"
   ]
  },
  {
   "cell_type": "code",
   "execution_count": 152,
   "id": "fb973ade",
   "metadata": {},
   "outputs": [
    {
     "data": {
      "text/html": [
       "<div>\n",
       "<style scoped>\n",
       "    .dataframe tbody tr th:only-of-type {\n",
       "        vertical-align: middle;\n",
       "    }\n",
       "\n",
       "    .dataframe tbody tr th {\n",
       "        vertical-align: top;\n",
       "    }\n",
       "\n",
       "    .dataframe thead th {\n",
       "        text-align: right;\n",
       "    }\n",
       "</style>\n",
       "<table border=\"1\" class=\"dataframe\">\n",
       "  <thead>\n",
       "    <tr style=\"text-align: right;\">\n",
       "      <th></th>\n",
       "      <th>Open</th>\n",
       "      <th>High</th>\n",
       "      <th>Low</th>\n",
       "      <th>Close</th>\n",
       "      <th>Volume</th>\n",
       "    </tr>\n",
       "    <tr>\n",
       "      <th>Date</th>\n",
       "      <th></th>\n",
       "      <th></th>\n",
       "      <th></th>\n",
       "      <th></th>\n",
       "      <th></th>\n",
       "    </tr>\n",
       "  </thead>\n",
       "  <tbody>\n",
       "    <tr>\n",
       "      <th>1996-01-01</th>\n",
       "      <td>12.562309</td>\n",
       "      <td>12.755722</td>\n",
       "      <td>12.460847</td>\n",
       "      <td>12.651089</td>\n",
       "      <td>43733533</td>\n",
       "    </tr>\n",
       "    <tr>\n",
       "      <th>1996-01-02</th>\n",
       "      <td>12.698651</td>\n",
       "      <td>12.746210</td>\n",
       "      <td>11.921829</td>\n",
       "      <td>12.248412</td>\n",
       "      <td>56167280</td>\n",
       "    </tr>\n",
       "    <tr>\n",
       "      <th>1996-01-03</th>\n",
       "      <td>12.318168</td>\n",
       "      <td>12.479873</td>\n",
       "      <td>11.858416</td>\n",
       "      <td>11.921830</td>\n",
       "      <td>68296318</td>\n",
       "    </tr>\n",
       "    <tr>\n",
       "      <th>1996-01-04</th>\n",
       "      <td>11.763293</td>\n",
       "      <td>11.985241</td>\n",
       "      <td>11.576221</td>\n",
       "      <td>11.880609</td>\n",
       "      <td>86073880</td>\n",
       "    </tr>\n",
       "    <tr>\n",
       "      <th>1996-01-05</th>\n",
       "      <td>11.921831</td>\n",
       "      <td>11.953537</td>\n",
       "      <td>11.734759</td>\n",
       "      <td>11.814027</td>\n",
       "      <td>76613039</td>\n",
       "    </tr>\n",
       "    <tr>\n",
       "      <th>...</th>\n",
       "      <td>...</td>\n",
       "      <td>...</td>\n",
       "      <td>...</td>\n",
       "      <td>...</td>\n",
       "      <td>...</td>\n",
       "    </tr>\n",
       "    <tr>\n",
       "      <th>2022-10-24</th>\n",
       "      <td>567.000000</td>\n",
       "      <td>572.500000</td>\n",
       "      <td>565.900024</td>\n",
       "      <td>570.500000</td>\n",
       "      <td>3692065</td>\n",
       "    </tr>\n",
       "    <tr>\n",
       "      <th>2022-10-25</th>\n",
       "      <td>572.500000</td>\n",
       "      <td>586.200012</td>\n",
       "      <td>568.000000</td>\n",
       "      <td>578.549988</td>\n",
       "      <td>19899324</td>\n",
       "    </tr>\n",
       "    <tr>\n",
       "      <th>2022-10-27</th>\n",
       "      <td>583.950012</td>\n",
       "      <td>585.000000</td>\n",
       "      <td>577.599976</td>\n",
       "      <td>579.650024</td>\n",
       "      <td>13613533</td>\n",
       "    </tr>\n",
       "    <tr>\n",
       "      <th>2022-10-28</th>\n",
       "      <td>579.950012</td>\n",
       "      <td>582.650024</td>\n",
       "      <td>567.000000</td>\n",
       "      <td>570.750000</td>\n",
       "      <td>10043644</td>\n",
       "    </tr>\n",
       "    <tr>\n",
       "      <th>2022-10-31</th>\n",
       "      <td>574.950012</td>\n",
       "      <td>577.450012</td>\n",
       "      <td>568.400024</td>\n",
       "      <td>572.849976</td>\n",
       "      <td>4237816</td>\n",
       "    </tr>\n",
       "  </tbody>\n",
       "</table>\n",
       "<p>6748 rows × 5 columns</p>\n",
       "</div>"
      ],
      "text/plain": [
       "                  Open        High         Low       Close    Volume\n",
       "Date                                                                \n",
       "1996-01-01   12.562309   12.755722   12.460847   12.651089  43733533\n",
       "1996-01-02   12.698651   12.746210   11.921829   12.248412  56167280\n",
       "1996-01-03   12.318168   12.479873   11.858416   11.921830  68296318\n",
       "1996-01-04   11.763293   11.985241   11.576221   11.880609  86073880\n",
       "1996-01-05   11.921831   11.953537   11.734759   11.814027  76613039\n",
       "...                ...         ...         ...         ...       ...\n",
       "2022-10-24  567.000000  572.500000  565.900024  570.500000   3692065\n",
       "2022-10-25  572.500000  586.200012  568.000000  578.549988  19899324\n",
       "2022-10-27  583.950012  585.000000  577.599976  579.650024  13613533\n",
       "2022-10-28  579.950012  582.650024  567.000000  570.750000  10043644\n",
       "2022-10-31  574.950012  577.450012  568.400024  572.849976   4237816\n",
       "\n",
       "[6748 rows x 5 columns]"
      ]
     },
     "execution_count": 152,
     "metadata": {},
     "output_type": "execute_result"
    }
   ],
   "source": [
    "df"
   ]
  },
  {
   "cell_type": "code",
   "execution_count": 153,
   "id": "f1a8621e",
   "metadata": {},
   "outputs": [],
   "source": [
    "df = df.reset_index()"
   ]
  },
  {
   "cell_type": "code",
   "execution_count": 154,
   "id": "aa0e1227",
   "metadata": {},
   "outputs": [],
   "source": [
    "df = df.drop('Date', axis=1)"
   ]
  },
  {
   "cell_type": "code",
   "execution_count": 155,
   "id": "5065493b",
   "metadata": {},
   "outputs": [
    {
     "data": {
      "text/html": [
       "<div>\n",
       "<style scoped>\n",
       "    .dataframe tbody tr th:only-of-type {\n",
       "        vertical-align: middle;\n",
       "    }\n",
       "\n",
       "    .dataframe tbody tr th {\n",
       "        vertical-align: top;\n",
       "    }\n",
       "\n",
       "    .dataframe thead th {\n",
       "        text-align: right;\n",
       "    }\n",
       "</style>\n",
       "<table border=\"1\" class=\"dataframe\">\n",
       "  <thead>\n",
       "    <tr style=\"text-align: right;\">\n",
       "      <th></th>\n",
       "      <th>Open</th>\n",
       "      <th>High</th>\n",
       "      <th>Low</th>\n",
       "      <th>Close</th>\n",
       "      <th>Volume</th>\n",
       "    </tr>\n",
       "  </thead>\n",
       "  <tbody>\n",
       "    <tr>\n",
       "      <th>0</th>\n",
       "      <td>12.562309</td>\n",
       "      <td>12.755722</td>\n",
       "      <td>12.460847</td>\n",
       "      <td>12.651089</td>\n",
       "      <td>43733533</td>\n",
       "    </tr>\n",
       "    <tr>\n",
       "      <th>1</th>\n",
       "      <td>12.698651</td>\n",
       "      <td>12.746210</td>\n",
       "      <td>11.921829</td>\n",
       "      <td>12.248412</td>\n",
       "      <td>56167280</td>\n",
       "    </tr>\n",
       "    <tr>\n",
       "      <th>2</th>\n",
       "      <td>12.318168</td>\n",
       "      <td>12.479873</td>\n",
       "      <td>11.858416</td>\n",
       "      <td>11.921830</td>\n",
       "      <td>68296318</td>\n",
       "    </tr>\n",
       "    <tr>\n",
       "      <th>3</th>\n",
       "      <td>11.763293</td>\n",
       "      <td>11.985241</td>\n",
       "      <td>11.576221</td>\n",
       "      <td>11.880609</td>\n",
       "      <td>86073880</td>\n",
       "    </tr>\n",
       "    <tr>\n",
       "      <th>4</th>\n",
       "      <td>11.921831</td>\n",
       "      <td>11.953537</td>\n",
       "      <td>11.734759</td>\n",
       "      <td>11.814027</td>\n",
       "      <td>76613039</td>\n",
       "    </tr>\n",
       "    <tr>\n",
       "      <th>...</th>\n",
       "      <td>...</td>\n",
       "      <td>...</td>\n",
       "      <td>...</td>\n",
       "      <td>...</td>\n",
       "      <td>...</td>\n",
       "    </tr>\n",
       "    <tr>\n",
       "      <th>6743</th>\n",
       "      <td>567.000000</td>\n",
       "      <td>572.500000</td>\n",
       "      <td>565.900024</td>\n",
       "      <td>570.500000</td>\n",
       "      <td>3692065</td>\n",
       "    </tr>\n",
       "    <tr>\n",
       "      <th>6744</th>\n",
       "      <td>572.500000</td>\n",
       "      <td>586.200012</td>\n",
       "      <td>568.000000</td>\n",
       "      <td>578.549988</td>\n",
       "      <td>19899324</td>\n",
       "    </tr>\n",
       "    <tr>\n",
       "      <th>6745</th>\n",
       "      <td>583.950012</td>\n",
       "      <td>585.000000</td>\n",
       "      <td>577.599976</td>\n",
       "      <td>579.650024</td>\n",
       "      <td>13613533</td>\n",
       "    </tr>\n",
       "    <tr>\n",
       "      <th>6746</th>\n",
       "      <td>579.950012</td>\n",
       "      <td>582.650024</td>\n",
       "      <td>567.000000</td>\n",
       "      <td>570.750000</td>\n",
       "      <td>10043644</td>\n",
       "    </tr>\n",
       "    <tr>\n",
       "      <th>6747</th>\n",
       "      <td>574.950012</td>\n",
       "      <td>577.450012</td>\n",
       "      <td>568.400024</td>\n",
       "      <td>572.849976</td>\n",
       "      <td>4237816</td>\n",
       "    </tr>\n",
       "  </tbody>\n",
       "</table>\n",
       "<p>6748 rows × 5 columns</p>\n",
       "</div>"
      ],
      "text/plain": [
       "            Open        High         Low       Close    Volume\n",
       "0      12.562309   12.755722   12.460847   12.651089  43733533\n",
       "1      12.698651   12.746210   11.921829   12.248412  56167280\n",
       "2      12.318168   12.479873   11.858416   11.921830  68296318\n",
       "3      11.763293   11.985241   11.576221   11.880609  86073880\n",
       "4      11.921831   11.953537   11.734759   11.814027  76613039\n",
       "...          ...         ...         ...         ...       ...\n",
       "6743  567.000000  572.500000  565.900024  570.500000   3692065\n",
       "6744  572.500000  586.200012  568.000000  578.549988  19899324\n",
       "6745  583.950012  585.000000  577.599976  579.650024  13613533\n",
       "6746  579.950012  582.650024  567.000000  570.750000  10043644\n",
       "6747  574.950012  577.450012  568.400024  572.849976   4237816\n",
       "\n",
       "[6748 rows x 5 columns]"
      ]
     },
     "execution_count": 155,
     "metadata": {},
     "output_type": "execute_result"
    }
   ],
   "source": [
    "df"
   ]
  },
  {
   "cell_type": "code",
   "execution_count": 156,
   "id": "1afad830",
   "metadata": {},
   "outputs": [
    {
     "data": {
      "text/plain": [
       "[<matplotlib.lines.Line2D at 0x7f8118b9fca0>]"
      ]
     },
     "execution_count": 156,
     "metadata": {},
     "output_type": "execute_result"
    },
    {
     "data": {
      "image/png": "[encoded data removed]",
      "text/plain": [
       "<Figure size 432x288 with 1 Axes>"
      ]
     },
     "metadata": {
      "needs_background": "light"
     },
     "output_type": "display_data"
    }
   ],
   "source": [
    "plt.plot(df['Close'])"
   ]
  },
  {
   "cell_type": "code",
   "execution_count": 157,
   "id": "dce1ae17",
   "metadata": {},
   "outputs": [],
   "source": [
    "ma100 = df['Close'].rolling(100).mean()\n",
    "ma200 = df['Close'].rolling(200).mean()"
   ]
  },
  {
   "cell_type": "code",
   "execution_count": 158,
   "id": "d316cd05",
   "metadata": {},
   "outputs": [
    {
     "data": {
      "text/plain": [
       "[<matplotlib.lines.Line2D at 0x7f81188d6fe0>]"
      ]
     },
     "execution_count": 158,
     "metadata": {},
     "output_type": "execute_result"
    },
    {
     "data": {
      "image/png": "[encoded data removed]",
      "text/plain": [
       "<Figure size 864x432 with 1 Axes>"
      ]
     },
     "metadata": {
      "needs_background": "light"
     },
     "output_type": "display_data"
    }
   ],
   "source": [
    "plt.figure(figsize=(12,6))\n",
    "plt.plot(df['Close'])\n",
    "plt.plot(ma100, 'r')\n",
    "plt.plot(ma200, 'g')"
   ]
  },
  {
   "cell_type": "code",
   "execution_count": 159,
   "id": "173bfdc5",
   "metadata": {},
   "outputs": [
    {
     "data": {
      "text/plain": [
       "(6748, 5)"
      ]
     },
     "execution_count": 159,
     "metadata": {},
     "output_type": "execute_result"
    }
   ],
   "source": [
    " df.shape"
   ]
  },
  {
   "cell_type": "code",
   "execution_count": 160,
   "id": "17c6dcaf",
   "metadata": {},
   "outputs": [],
   "source": [
    "data_training = pd.DataFrame(df['Close'][0:int(len(df)*0.7)]) \n",
    "data_testing = pd.DataFrame(df['Close'][int(len(df)*0.7):int(len(df))]) "
   ]
  },
  {
   "cell_type": "code",
   "execution_count": 161,
   "id": "b9dab5e6",
   "metadata": {},
   "outputs": [
    {
     "data": {
      "text/plain": [
       "(           Close\n",
       " 4723  228.935181\n",
       " 4724  223.261642\n",
       " 4725  222.653732\n",
       " 4726  228.185928\n",
       " 4727  230.169769\n",
       " ...          ...\n",
       " 6743  570.500000\n",
       " 6744  578.549988\n",
       " 6745  579.650024\n",
       " 6746  570.750000\n",
       " 6747  572.849976\n",
       " \n",
       " [2025 rows x 1 columns],\n",
       "            Close\n",
       " 0      12.651089\n",
       " 1      12.248412\n",
       " 2      11.921830\n",
       " 3      11.880609\n",
       " 4      11.814027\n",
       " ...          ...\n",
       " 4718  233.152634\n",
       " 4719  228.661865\n",
       " 4720  229.590164\n",
       " 4721  227.879608\n",
       " 4722  227.549774\n",
       " \n",
       " [4723 rows x 1 columns])"
      ]
     },
     "execution_count": 161,
     "metadata": {},
     "output_type": "execute_result"
    }
   ],
   "source": [
    "data_testing, data_training"
   ]
  },
  {
   "cell_type": "code",
   "execution_count": 162,
   "id": "3a768ca0",
   "metadata": {},
   "outputs": [],
   "source": [
    "from sklearn.preprocessing import MinMaxScaler"
   ]
  },
  {
   "cell_type": "code",
   "execution_count": 163,
   "id": "7a46091d",
   "metadata": {},
   "outputs": [],
   "source": [
    "scaler = MinMaxScaler(feature_range=(0,1))"
   ]
  },
  {
   "cell_type": "code",
   "execution_count": 164,
   "id": "686375c6",
   "metadata": {},
   "outputs": [],
   "source": [
    "data_training_array = scaler.fit_transform(data_training)"
   ]
  },
  {
   "cell_type": "code",
   "execution_count": 165,
   "id": "179633b8",
   "metadata": {},
   "outputs": [],
   "source": [
    "X_train = []\n",
    "y_train = []\n",
    "\n",
    "for i in range(100, data_training_array.shape[0]):\n",
    "    X_train.append(data_training_array[i-100: i])\n",
    "    y_train.append(data_training_array[i ,0])\n",
    "    \n",
    "X_train, y_train = np.array(X_train), np.array(y_train)"
   ]
  },
  {
   "cell_type": "code",
   "execution_count": 166,
   "id": "72955571",
   "metadata": {},
   "outputs": [
    {
     "data": {
      "text/plain": [
       "(4623, 100, 1)"
      ]
     },
     "execution_count": 166,
     "metadata": {},
     "output_type": "execute_result"
    }
   ],
   "source": [
    "X_train.shape"
   ]
  },
  {
   "cell_type": "markdown",
   "id": "faef0e03",
   "metadata": {},
   "source": [
    "Machine Learning Model"
   ]
  },
  {
   "cell_type": "code",
   "execution_count": 167,
   "id": "3afc9ea2",
   "metadata": {},
   "outputs": [],
   "source": [
    "from keras.layers import Dense, Dropout, LSTM"
   ]
  },
  {
   "cell_type": "code",
   "execution_count": 168,
   "id": "4db8fc32",
   "metadata": {},
   "outputs": [],
   "source": [
    "from keras.models import Sequential"
   ]
  },
  {
   "cell_type": "code",
   "execution_count": 169,
   "id": "5e8cb861",
   "metadata": {},
   "outputs": [],
   "source": [
    "model = Sequential()\n",
    "model.add(LSTM(units=50, activation='relu', return_sequences=True, input_shape=(X_train.shape[1], 1)))\n",
    "model.add(Dropout(0.2))\n",
    "\n",
    "model.add(LSTM(units=60, activation='relu', return_sequences=True))\n",
    "model.add(Dropout(0.3))\n",
    "\n",
    "model.add(LSTM(units=80, activation='relu', return_sequences=True))\n",
    "model.add(Dropout(0.4))\n",
    "\n",
    "model.add(LSTM(units=120, activation='relu'))\n",
    "model.add(Dropout(0.5))\n",
    "          \n",
    "model.add(Dense(units=1))"
   ]
  },
  {
   "cell_type": "code",
   "execution_count": 170,
   "id": "aa1a6462",
   "metadata": {},
   "outputs": [
    {
     "name": "stdout",
     "output_type": "stream",
     "text": [
      "Model: \"sequential_10\"\n",
      "_________________________________________________________________\n",
      " Layer (type)                Output Shape              Param #   \n",
      "=================================================================\n",
      " lstm_12 (LSTM)              (None, 100, 50)           10400     \n",
      "                                                                 \n",
      " dropout_8 (Dropout)         (None, 100, 50)           0         \n",
      "                                                                 \n",
      " lstm_13 (LSTM)              (None, 100, 60)           26640     \n",
      "                                                                 \n",
      " dropout_9 (Dropout)         (None, 100, 60)           0         \n",
      "                                                                 \n",
      " lstm_14 (LSTM)              (None, 100, 80)           45120     \n",
      "                                                                 \n",
      " dropout_10 (Dropout)        (None, 100, 80)           0         \n",
      "                                                                 \n",
      " lstm_15 (LSTM)              (None, 120)               96480     \n",
      "                                                                 \n",
      " dropout_11 (Dropout)        (None, 120)               0         \n",
      "                                                                 \n",
      " dense_2 (Dense)             (None, 1)                 121       \n",
      "                                                                 \n",
      "=================================================================\n",
      "Total params: 178,761\n",
      "Trainable params: 178,761\n",
      "Non-trainable params: 0\n",
      "_________________________________________________________________\n"
     ]
    }
   ],
   "source": [
    "model.summary()"
   ]
  },
  {
   "cell_type": "code",
   "execution_count": 171,
   "id": "ce688837",
   "metadata": {},
   "outputs": [
    {
     "name": "stdout",
     "output_type": "stream",
     "text": [
      "Epoch 1/25\n",
      "145/145 [==============================] - 48s 292ms/step - loss: 0.0165\n",
      "Epoch 2/25\n",
      "145/145 [==============================] - 39s 267ms/step - loss: 0.0050\n",
      "Epoch 3/25\n",
      "145/145 [==============================] - 40s 275ms/step - loss: 0.0045\n",
      "Epoch 4/25\n",
      "145/145 [==============================] - 39s 272ms/step - loss: 0.0041\n",
      "Epoch 5/25\n",
      "145/145 [==============================] - 42s 288ms/step - loss: 0.0035\n",
      "Epoch 6/25\n",
      "145/145 [==============================] - 40s 277ms/step - loss: 0.0033\n",
      "Epoch 7/25\n",
      "145/145 [==============================] - 40s 279ms/step - loss: 0.0031\n",
      "Epoch 8/25\n",
      "145/145 [==============================] - 41s 282ms/step - loss: 0.0032\n",
      "Epoch 9/25\n",
      "145/145 [==============================] - 40s 275ms/step - loss: 0.0028\n",
      "Epoch 10/25\n",
      "145/145 [==============================] - 40s 277ms/step - loss: 0.0026\n",
      "Epoch 11/25\n",
      "145/145 [==============================] - 42s 290ms/step - loss: 0.0026\n",
      "Epoch 12/25\n",
      "145/145 [==============================] - 41s 286ms/step - loss: 0.0027\n",
      "Epoch 13/25\n",
      "145/145 [==============================] - 40s 279ms/step - loss: 0.0027\n",
      "Epoch 14/25\n",
      "145/145 [==============================] - 40s 274ms/step - loss: 0.0024\n",
      "Epoch 15/25\n",
      "145/145 [==============================] - 40s 275ms/step - loss: 0.0025\n",
      "Epoch 16/25\n",
      "145/145 [==============================] - 40s 275ms/step - loss: 0.0024\n",
      "Epoch 17/25\n",
      "145/145 [==============================] - 39s 269ms/step - loss: 0.0024\n",
      "Epoch 18/25\n",
      "145/145 [==============================] - 43s 299ms/step - loss: 0.0022\n",
      "Epoch 19/25\n",
      "145/145 [==============================] - 154s 1s/step - loss: 0.0022\n",
      "Epoch 20/25\n",
      "145/145 [==============================] - 38s 261ms/step - loss: 0.0023\n",
      "Epoch 21/25\n",
      "145/145 [==============================] - 39s 267ms/step - loss: 0.0022\n",
      "Epoch 22/25\n",
      "145/145 [==============================] - 40s 273ms/step - loss: 0.0021\n",
      "Epoch 23/25\n",
      "145/145 [==============================] - 39s 267ms/step - loss: 0.0022\n",
      "Epoch 24/25\n",
      "145/145 [==============================] - 39s 272ms/step - loss: 0.0022\n",
      "Epoch 25/25\n",
      "145/145 [==============================] - 39s 268ms/step - loss: 0.0021\n"
     ]
    },
    {
     "data": {
      "text/plain": [
       "<keras.callbacks.History at 0x7f811a11dc90>"
      ]
     },
     "execution_count": 171,
     "metadata": {},
     "output_type": "execute_result"
    }
   ],
   "source": [
    "model.compile(optimizer='adam', loss='mean_squared_error')\n",
    "model.fit(X_train, y_train, epochs=25)"
   ]
  },
  {
   "cell_type": "code",
   "execution_count": 172,
   "id": "6859a721",
   "metadata": {},
   "outputs": [],
   "source": [
    "model.save('keras.h5')"
   ]
  },
  {
   "cell_type": "code",
   "execution_count": 173,
   "id": "4ebe5c41",
   "metadata": {},
   "outputs": [
    {
     "data": {
      "text/html": [
       "<div>\n",
       "<style scoped>\n",
       "    .dataframe tbody tr th:only-of-type {\n",
       "        vertical-align: middle;\n",
       "    }\n",
       "\n",
       "    .dataframe tbody tr th {\n",
       "        vertical-align: top;\n",
       "    }\n",
       "\n",
       "    .dataframe thead th {\n",
       "        text-align: right;\n",
       "    }\n",
       "</style>\n",
       "<table border=\"1\" class=\"dataframe\">\n",
       "  <thead>\n",
       "    <tr style=\"text-align: right;\">\n",
       "      <th></th>\n",
       "      <th>Close</th>\n",
       "    </tr>\n",
       "  </thead>\n",
       "  <tbody>\n",
       "    <tr>\n",
       "      <th>4723</th>\n",
       "      <td>228.935181</td>\n",
       "    </tr>\n",
       "    <tr>\n",
       "      <th>4724</th>\n",
       "      <td>223.261642</td>\n",
       "    </tr>\n",
       "    <tr>\n",
       "      <th>4725</th>\n",
       "      <td>222.653732</td>\n",
       "    </tr>\n",
       "    <tr>\n",
       "      <th>4726</th>\n",
       "      <td>228.185928</td>\n",
       "    </tr>\n",
       "    <tr>\n",
       "      <th>4727</th>\n",
       "      <td>230.169769</td>\n",
       "    </tr>\n",
       "  </tbody>\n",
       "</table>\n",
       "</div>"
      ],
      "text/plain": [
       "           Close\n",
       "4723  228.935181\n",
       "4724  223.261642\n",
       "4725  222.653732\n",
       "4726  228.185928\n",
       "4727  230.169769"
      ]
     },
     "execution_count": 173,
     "metadata": {},
     "output_type": "execute_result"
    }
   ],
   "source": [
    "data_testing.head()"
   ]
  },
  {
   "cell_type": "code",
   "execution_count": 174,
   "id": "67ac8db6",
   "metadata": {},
   "outputs": [],
   "source": [
    "past_100_days = data_training.tail(100)"
   ]
  },
  {
   "cell_type": "code",
   "execution_count": 175,
   "id": "6cf9f45d",
   "metadata": {},
   "outputs": [
    {
     "name": "stderr",
     "output_type": "stream",
     "text": [
      "/var/folders/8q/hwngzqvx0871np5x0mj6_d9h0000gn/T/ipykernel_30494/531349220.py:1: FutureWarning: The frame.append method is deprecated and will be removed from pandas in a future version. Use pandas.concat instead.\n",
      "  final_df = past_100_days.append(data_testing, ignore_index=True)\n"
     ]
    }
   ],
   "source": [
    "final_df = past_100_days.append(data_testing, ignore_index=True)"
   ]
  },
  {
   "cell_type": "code",
   "execution_count": 176,
   "id": "ee0501e9",
   "metadata": {},
   "outputs": [],
   "source": [
    "input_data = scaler.fit_transform(final_df)"
   ]
  },
  {
   "cell_type": "code",
   "execution_count": 177,
   "id": "89a68e50",
   "metadata": {},
   "outputs": [
    {
     "data": {
      "text/plain": [
       "array([[0.10340621],\n",
       "       [0.10922801],\n",
       "       [0.10469193],\n",
       "       ...,\n",
       "       [1.        ],\n",
       "       [0.97990025],\n",
       "       [0.98464282]])"
      ]
     },
     "execution_count": 177,
     "metadata": {},
     "output_type": "execute_result"
    }
   ],
   "source": [
    "input_data"
   ]
  },
  {
   "cell_type": "code",
   "execution_count": 178,
   "id": "67893bb6",
   "metadata": {},
   "outputs": [],
   "source": [
    "X_test = []\n",
    "y_test = []\n",
    "\n",
    "for i in range(100, input_data.shape[0]):\n",
    "    X_test.append(input_data[i-100: i])\n",
    "    y_test.append(input_data[i, 0])\n",
    "    \n",
    "X_test, y_test = np.array(X_test), np.array(y_test)"
   ]
  },
  {
   "cell_type": "code",
   "execution_count": 179,
   "id": "ed70e6d5",
   "metadata": {},
   "outputs": [
    {
     "name": "stdout",
     "output_type": "stream",
     "text": [
      "76/76 [==============================] - 9s 111ms/step\n"
     ]
    }
   ],
   "source": [
    "y_predicted = model.predict(X_test)"
   ]
  },
  {
   "cell_type": "code",
   "execution_count": 180,
   "id": "2c7eb296",
   "metadata": {},
   "outputs": [
    {
     "data": {
      "text/plain": [
       "array([[0.17439207],\n",
       "       [0.17718872],\n",
       "       [0.1799959 ],\n",
       "       ...,\n",
       "       [0.8710344 ],\n",
       "       [0.88054717],\n",
       "       [0.8887994 ]], dtype=float32)"
      ]
     },
     "execution_count": 180,
     "metadata": {},
     "output_type": "execute_result"
    }
   ],
   "source": [
    "y_predicted"
   ]
  },
  {
   "cell_type": "code",
   "execution_count": 181,
   "id": "2bba67b9",
   "metadata": {},
   "outputs": [
    {
     "data": {
      "text/plain": [
       "(2425, 1)"
      ]
     },
     "execution_count": 181,
     "metadata": {},
     "output_type": "execute_result"
    }
   ],
   "source": [
    "y_predicted.shape"
   ]
  },
  {
   "cell_type": "markdown",
   "id": "b4673d1e",
   "metadata": {},
   "source": [
    "Convert Scaled value to normal value"
   ]
  },
  {
   "cell_type": "code",
   "execution_count": 182,
   "id": "9651f6ae",
   "metadata": {},
   "outputs": [
    {
     "data": {
      "text/plain": [
       "array([0.00225839])"
      ]
     },
     "execution_count": 182,
     "metadata": {},
     "output_type": "execute_result"
    }
   ],
   "source": [
    "scaler.scale_"
   ]
  },
  {
   "cell_type": "code",
   "execution_count": 183,
   "id": "c29a1438",
   "metadata": {},
   "outputs": [],
   "source": [
    "scale_factor = 1 / 0.00559049\n",
    "\n",
    "y_predicted = y_predicted * scale_factor\n",
    "y_test = y_test * scale_factor"
   ]
  },
  {
   "cell_type": "code",
   "execution_count": 185,
   "id": "712a3366",
   "metadata": {},
   "outputs": [
    {
     "data": {
      "image/png": "[encoded data removed]",
      "text/plain": [
       "<Figure size 864x432 with 1 Axes>"
      ]
     },
     "metadata": {
      "needs_background": "light"
     },
     "output_type": "display_data"
    }
   ],
   "source": [
    "plt.figure(figsize=(12,6))\n",
    "plt.plot(y_test, 'b', label='Original Price')\n",
    "plt.plot(y_predicted, 'r',label='Predicted Price')\n",
    "plt.xlabel('Time')\n",
    "plt.ylabel('Price')\n",
    "plt.legend()\n",
    "plt.show()"
   ]
  },
  {
   "cell_type": "code",
   "execution_count": null,
   "id": "cc244c03",
   "metadata": {},
   "outputs": [],
   "source": []
  }
 ],
 "metadata": {
  "kernelspec": {
   "display_name": "Python 3 (ipykernel)",
   "language": "python",
   "name": "python3"
  },
  "language_info": {
   "codemirror_mode": {
    "name": "ipython",
    "version": 3
   },
   "file_extension": ".py",
   "mimetype": "text/x-python",
   "name": "python",
   "nbconvert_exporter": "python",
   "pygments_lexer": "ipython3",
   "version": "3.10.4"
  }
 },
 "nbformat": 4,
 "nbformat_minor": 5
}
